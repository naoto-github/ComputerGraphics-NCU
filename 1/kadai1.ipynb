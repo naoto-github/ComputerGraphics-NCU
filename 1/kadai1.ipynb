{
 "cells": [
  {
   "cell_type": "markdown",
   "id": "944153cd-790b-4fd0-bf97-f4889a0108e2",
   "metadata": {},
   "source": [
    "# 文字列 \"Hello, World!\" を画面に表示するプログラムを実装せよ．"
   ]
  },
  {
   "cell_type": "code",
   "execution_count": 2,
   "id": "dd8a9e65-86d0-40da-93c1-00c1490ba80c",
   "metadata": {},
   "outputs": [
    {
     "name": "stdout",
     "output_type": "stream",
     "text": [
      "Hello, World!\n"
     ]
    }
   ],
   "source": [
    "print(\"Hello, World!\")"
   ]
  },
  {
   "cell_type": "markdown",
   "id": "04823f8d-ffd4-42a7-a8e4-91643829117a",
   "metadata": {},
   "source": [
    "# 配列 [1, 2, 3, 4, 5] の要素をすべて出力するプログラムを実装せよ．"
   ]
  },
  {
   "cell_type": "code",
   "execution_count": 3,
   "id": "80c235ed-5025-4ee0-88ff-31ef9941c1da",
   "metadata": {},
   "outputs": [
    {
     "name": "stdout",
     "output_type": "stream",
     "text": [
      "1\n",
      "2\n",
      "3\n",
      "4\n",
      "5\n"
     ]
    }
   ],
   "source": [
    "for x in [1, 2, 3, 4, 5]:\n",
    "    print(x)"
   ]
  },
  {
   "cell_type": "markdown",
   "id": "0d58421e-c08b-4803-8d21-e7d0e6d5067c",
   "metadata": {},
   "source": [
    "# 変数aに10，変数bに3を代入し，以下の演算結果をそれぞれ出力するプログラムを実装せよ．"
   ]
  },
  {
   "cell_type": "code",
   "execution_count": 5,
   "id": "cae6809d-594b-4ddd-8816-b42312e5ac0a",
   "metadata": {},
   "outputs": [
    {
     "name": "stdout",
     "output_type": "stream",
     "text": [
      "13\n",
      "7\n",
      "30\n",
      "3.3333333333333335\n",
      "1\n"
     ]
    }
   ],
   "source": [
    "a = 10\n",
    "b = 3\n",
    "\n",
    "print(a + b)\n",
    "print(a - b)\n",
    "print(a * b)\n",
    "print(a / b)\n",
    "print(a % b)"
   ]
  },
  {
   "cell_type": "markdown",
   "id": "fd01f1da-ed0d-4d23-bc64-04529983508b",
   "metadata": {},
   "source": [
    "# リスト [10, 20, 30, 40, 50] のすべての要素を2倍にして，その結果を出力するプログラムを実装せよ．"
   ]
  },
  {
   "cell_type": "code",
   "execution_count": 6,
   "id": "d55be907-ccf1-4502-944b-930981989f2c",
   "metadata": {},
   "outputs": [
    {
     "name": "stdout",
     "output_type": "stream",
     "text": [
      "20\n",
      "40\n",
      "60\n",
      "80\n",
      "100\n"
     ]
    }
   ],
   "source": [
    "for x in [10, 20, 30, 40, 50]:\n",
    "    print(x * 2)"
   ]
  },
  {
   "cell_type": "markdown",
   "id": "7c5a75bf-26aa-4470-a18e-e86d0e0ad312",
   "metadata": {},
   "source": [
    "## 変数xに任意の整数を代入し，その値が5より大きいかどうかを判定し，結果を表示するプログラムを実装せよ．5以上の場合は「xは5以上である」と表示し，それ以外の場合は「xは5未満である」と表示すること．"
   ]
  },
  {
   "cell_type": "code",
   "execution_count": 7,
   "id": "7bd526ed-a394-4593-ad3e-dac18f8cafae",
   "metadata": {},
   "outputs": [
    {
     "name": "stdout",
     "output_type": "stream",
     "text": [
      "xは5以上である\n"
     ]
    }
   ],
   "source": [
    "x = 8\n",
    "\n",
    "if x >= 5:\n",
    "    print(\"xは5以上である\")\n",
    "else:\n",
    "    print(\"xは5未満である\")"
   ]
  },
  {
   "cell_type": "markdown",
   "id": "0adfdedd-d3fc-4b52-a042-a169158d7831",
   "metadata": {},
   "source": [
    "# 1から100までの整数のうち，偶数だけを表示するプログラムを実装せよ．"
   ]
  },
  {
   "cell_type": "code",
   "execution_count": 10,
   "id": "53ff4713-f012-487f-a092-c116c46aaa53",
   "metadata": {},
   "outputs": [
    {
     "name": "stdout",
     "output_type": "stream",
     "text": [
      "2\n",
      "4\n",
      "6\n",
      "8\n",
      "10\n",
      "12\n",
      "14\n",
      "16\n",
      "18\n",
      "20\n",
      "22\n",
      "24\n",
      "26\n",
      "28\n",
      "30\n",
      "32\n",
      "34\n",
      "36\n",
      "38\n",
      "40\n",
      "42\n",
      "44\n",
      "46\n",
      "48\n",
      "50\n",
      "52\n",
      "54\n",
      "56\n",
      "58\n",
      "60\n",
      "62\n",
      "64\n",
      "66\n",
      "68\n",
      "70\n",
      "72\n",
      "74\n",
      "76\n",
      "78\n",
      "80\n",
      "82\n",
      "84\n",
      "86\n",
      "88\n",
      "90\n",
      "92\n",
      "94\n",
      "96\n",
      "98\n",
      "100\n"
     ]
    }
   ],
   "source": [
    "for x in range(100):\n",
    "    number = x + 1\n",
    "    if (number % 2) == 0:\n",
    "        print(number)"
   ]
  },
  {
   "cell_type": "markdown",
   "id": "20508073-1805-4b18-b029-17bd59df9a7d",
   "metadata": {},
   "source": [
    "# リスト[3, 7, 2, 8, 5, 10] の中で，5より大きい数値をすべて表示するプログラムを実装せよ．"
   ]
  },
  {
   "cell_type": "code",
   "execution_count": 11,
   "id": "c8722ea6-49dd-403a-9719-7be87582e3ed",
   "metadata": {},
   "outputs": [
    {
     "name": "stdout",
     "output_type": "stream",
     "text": [
      "7\n",
      "8\n",
      "10\n"
     ]
    }
   ],
   "source": [
    "for x in [3, 7, 2, 8, 5, 10]:\n",
    "    if x > 5:\n",
    "        print(x)"
   ]
  },
  {
   "cell_type": "markdown",
   "id": "bb116235-e265-4202-ad82-cba7ebfbf929",
   "metadata": {},
   "source": [
    "# リストに含まれる整数の合計を計算し，その結果を表示するプログラムを実装せよ．リストは[1, 2, 3, 4, 5]とする．"
   ]
  },
  {
   "cell_type": "code",
   "execution_count": 13,
   "id": "1d91e2c2-090f-4814-9f63-a24a692cb0c2",
   "metadata": {},
   "outputs": [
    {
     "name": "stdout",
     "output_type": "stream",
     "text": [
      "15\n"
     ]
    }
   ],
   "source": [
    "sum = 0\n",
    "for x in [1, 2, 3, 4, 5]:\n",
    "    sum = sum + x\n",
    "\n",
    "print(sum)"
   ]
  },
  {
   "cell_type": "markdown",
   "id": "b1c103ab-1b2d-4837-b757-49c9e59d32a4",
   "metadata": {},
   "source": [
    "# リスト [1, 2, 3, 4, 5, 6, 7, 8, 9, 10] を逆順に並べ替え，その結果を出力するプログラムを実装せよ．"
   ]
  },
  {
   "cell_type": "code",
   "execution_count": 4,
   "id": "efcf4868-cdc9-40b7-b425-bcd10a58e525",
   "metadata": {},
   "outputs": [
    {
     "name": "stdout",
     "output_type": "stream",
     "text": [
      "10\n",
      "9\n",
      "8\n",
      "7\n",
      "6\n",
      "5\n",
      "4\n",
      "3\n",
      "2\n",
      "1\n"
     ]
    }
   ],
   "source": [
    "numbers = [1, 2, 3, 4, 5, 6, 7, 8, 9, 10]\n",
    "for i in range(len(numbers)):\n",
    "    index = len(numbers) - i - 1\n",
    "    print(numbers[index])"
   ]
  },
  {
   "cell_type": "code",
   "execution_count": 15,
   "id": "dfa1ead9-d680-4947-a9d0-709778ece946",
   "metadata": {},
   "outputs": [
    {
     "name": "stdout",
     "output_type": "stream",
     "text": [
      "[10  9  8  7  6  5  4  3  2  1]\n"
     ]
    }
   ],
   "source": [
    "# 別解\n",
    "import numpy as np\n",
    "numbers = np.array([1, 2, 3, 4, 5, 6, 7, 8, 9, 10] )\n",
    "new_numbers = numbers[::-1]\n",
    "print(new_numbers)"
   ]
  },
  {
   "cell_type": "markdown",
   "id": "e2f96716-eb4f-4b78-bcd1-d1451717b442",
   "metadata": {},
   "source": [
    "# 2次元リスト [[1, 2], [3, 4], [5, 6]] を要素ごとに2倍にして，その結果を新しい2次元リストとして表示するプログラムを実装せよ．"
   ]
  },
  {
   "cell_type": "code",
   "execution_count": 17,
   "id": "0381479a-e9e1-42cf-b472-f85fc0bcb25a",
   "metadata": {},
   "outputs": [
    {
     "name": "stdout",
     "output_type": "stream",
     "text": [
      "[[2, 4], [6, 8], [10, 12]]\n"
     ]
    }
   ],
   "source": [
    "new_numbers = []\n",
    "numbers = [[1, 2], [3, 4], [5, 6]]\n",
    "\n",
    "for number in numbers:\n",
    "    new_elm = []\n",
    "    for x in number:\n",
    "        new_elm.append(x * 2)\n",
    "    new_numbers.append(new_elm)\n",
    "\n",
    "print(new_numbers)"
   ]
  },
  {
   "cell_type": "code",
   "execution_count": 19,
   "id": "c3afb790-ea15-49d4-a3a6-ab5b5adc548f",
   "metadata": {},
   "outputs": [
    {
     "name": "stdout",
     "output_type": "stream",
     "text": [
      "[[2, 4], [6, 8], [10, 12]]\n"
     ]
    }
   ],
   "source": [
    "# 別解\n",
    "import numpy as np\n",
    "numbers = np.array([[1, 2], [3, 4], [5, 6]])\n",
    "new_numbers = numbers * 2\n",
    "print(new_numbers.tolist())"
   ]
  }
 ],
 "metadata": {
  "kernelspec": {
   "display_name": "Python 3 (ipykernel)",
   "language": "python",
   "name": "python3"
  },
  "language_info": {
   "codemirror_mode": {
    "name": "ipython",
    "version": 3
   },
   "file_extension": ".py",
   "mimetype": "text/x-python",
   "name": "python",
   "nbconvert_exporter": "python",
   "pygments_lexer": "ipython3",
   "version": "3.12.6"
  }
 },
 "nbformat": 4,
 "nbformat_minor": 5
}
