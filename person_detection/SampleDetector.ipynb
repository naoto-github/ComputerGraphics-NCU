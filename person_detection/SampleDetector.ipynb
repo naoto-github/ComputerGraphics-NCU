{
 "cells": [
  {
   "cell_type": "markdown",
   "id": "347b8753-5ca8-4adf-8d4d-10d7989756bd",
   "metadata": {},
   "source": [
    "# 人物検出のサンプルコード"
   ]
  },
  {
   "cell_type": "code",
   "execution_count": 2,
   "id": "c6bd61a3-deab-43a2-85a7-1c5ec8f10e22",
   "metadata": {},
   "outputs": [],
   "source": [
    "# ライブラリのインポート\n",
    "import cv2\n",
    "import numpy as np\n",
    "import matplotlib.pyplot as plt\n",
    "import os\n",
    "import shutil\n",
    "import glob"
   ]
  },
  {
   "cell_type": "markdown",
   "id": "9331ac68-fa59-47f5-81a7-07a0c751d4da",
   "metadata": {},
   "source": [
    "## 対象画像とマスク画像のフォルダ（**要修正**）"
   ]
  },
  {
   "cell_type": "code",
   "execution_count": 3,
   "id": "ad4777cd-5528-4550-886b-e0b50ca8d840",
   "metadata": {},
   "outputs": [],
   "source": [
    "# 対象画像のフォルダ（適宜修正すること）\n",
    "TARGET_FOLDER = \"./images/\"\n",
    "\n",
    "# マスク画像を保存するフォルダ（適宜修正すること）\n",
    "MASK_FOLDER = \"./results/\" "
   ]
  },
  {
   "cell_type": "markdown",
   "id": "bb8a4734-4846-4edd-8acc-3e436aa07431",
   "metadata": {},
   "source": [
    "## マスク画像を生成する関数（**要修正**）\n",
    "### 【改良したアルゴリズムの説明をここに記載すること】"
   ]
  },
  {
   "cell_type": "code",
   "execution_count": 4,
   "id": "5a064744-5db7-4593-8b16-c49aa5a261ed",
   "metadata": {},
   "outputs": [],
   "source": [
    "# 画像から人物のマスクを生成する関数（適宜修正すること）\n",
    "def detect(image):\n",
    "    \n",
    "    # グレースケールに変換\n",
    "    image_gray = cv2.cvtColor(image, cv2.COLOR_BGR2GRAY)\n",
    "\n",
    "    # 閾値127で2値化\n",
    "    _, image_binary = cv2.threshold(image_gray, 127, 255, cv2.THRESH_BINARY)\n",
    "\n",
    "    # モルフォロジー処理\n",
    "    kernel = np.ones((5,5),np.uint8)\n",
    "    image_mask = cv2.morphologyEx(image_binary, cv2.MORPH_OPEN, kernel, iterations=3)\n",
    "    image_mask = cv2.morphologyEx(image_binary, cv2.MORPH_CLOSE, kernel, iterations=3)\n",
    "    \n",
    "    return image_mask"
   ]
  },
  {
   "cell_type": "markdown",
   "id": "73d2c65f-c456-44e8-8b1b-72ddee965246",
   "metadata": {},
   "source": [
    "## 対象画像のマスク画像を生成（修正不可）"
   ]
  },
  {
   "cell_type": "code",
   "execution_count": 5,
   "id": "df2ad229-e74c-4449-9c47-0d64eb4522a8",
   "metadata": {},
   "outputs": [],
   "source": [
    "# マスク画像のフォルダが存在する場合は削除\n",
    "if os.path.exists(MASK_FOLDER):\n",
    "    shutil.rmtree(MASK_FOLDER)\n",
    "\n",
    "# マスク画像の保存フォルダの作成\n",
    "os.makedirs(MASK_FOLDER)\n",
    "\n",
    "# 画像一覧の取得\n",
    "files = sorted(glob.glob(TARGET_FOLDER + \"*.png\"))\n",
    "for file in files:\n",
    "    image = cv2.imread(file) # 画像の読み込み\n",
    "    image_rgb = cv2.cvtColor(image, cv2.COLOR_BGR2RGB) # BGRからRGBに変換\n",
    "    image_mask = detect(image_rgb) # マスク画像を生成\n",
    "    filename = os.path.basename(file)\n",
    "    cv2.imwrite(f\"{MASK_FOLDER}{filename}\", image_mask) # マスク画像を保存"
   ]
  },
  {
   "cell_type": "code",
   "execution_count": null,
   "id": "eb6dfbf5-4d85-4440-8521-dfcb633b5f23",
   "metadata": {},
   "outputs": [],
   "source": []
  }
 ],
 "metadata": {
  "kernelspec": {
   "display_name": "Python 3",
   "language": "python",
   "name": "python3"
  },
  "language_info": {
   "codemirror_mode": {
    "name": "ipython",
    "version": 3
   },
   "file_extension": ".py",
   "mimetype": "text/x-python",
   "name": "python",
   "nbconvert_exporter": "python",
   "pygments_lexer": "ipython3",
   "version": "3.12.6"
  }
 },
 "nbformat": 4,
 "nbformat_minor": 5
}
