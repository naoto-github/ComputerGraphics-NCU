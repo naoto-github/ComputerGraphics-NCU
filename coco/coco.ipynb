{
 "cells": [
  {
   "cell_type": "markdown",
   "id": "09b032c7-f58c-4080-8dca-91178a4481d8",
   "metadata": {},
   "source": [
    "# pycocotools\n",
    "## https://cocodataset.org/\n",
    "$ pip install pycocotools "
   ]
  },
  {
   "cell_type": "code",
   "execution_count": 8,
   "id": "f9dbf9e5-07da-4065-8031-0b658e0a9228",
   "metadata": {},
   "outputs": [],
   "source": [
    "from pycocotools.coco import COCO\n",
    "import numpy as np\n",
    "import matplotlib.pyplot as plt"
   ]
  },
  {
   "cell_type": "code",
   "execution_count": 10,
   "id": "30265803-b054-406a-812a-adb42512021f",
   "metadata": {},
   "outputs": [
    {
     "name": "stdout",
     "output_type": "stream",
     "text": [
      "loading annotations into memory...\n",
      "Done (t=4.93s)\n",
      "creating index...\n",
      "index created!\n"
     ]
    }
   ],
   "source": [
    "annFile = \"annotations/instances_train2014.json\"\n",
    "coco=COCO(annFile)"
   ]
  },
  {
   "cell_type": "code",
   "execution_count": 16,
   "id": "b870ee2c-80bf-4b79-8f27-0667672e2444",
   "metadata": {},
   "outputs": [
    {
     "name": "stdout",
     "output_type": "stream",
     "text": [
      "1\n",
      "{'supercategory': 'person', 'id': 1, 'name': 'person'}\n"
     ]
    }
   ],
   "source": [
    "cat_ids = coco.getCatIds()\n",
    "print(cat_ids[0])\n",
    "categories = coco.loadCats(cat_ids)\n",
    "print(categories[0])"
   ]
  },
  {
   "cell_type": "code",
   "execution_count": null,
   "id": "d34d16ab-2c1b-420c-8472-79ce8cb935b3",
   "metadata": {},
   "outputs": [],
   "source": []
  }
 ],
 "metadata": {
  "kernelspec": {
   "display_name": "Python 3 (ipykernel)",
   "language": "python",
   "name": "python3"
  },
  "language_info": {
   "codemirror_mode": {
    "name": "ipython",
    "version": 3
   },
   "file_extension": ".py",
   "mimetype": "text/x-python",
   "name": "python",
   "nbconvert_exporter": "python",
   "pygments_lexer": "ipython3",
   "version": "3.12.6"
  }
 },
 "nbformat": 4,
 "nbformat_minor": 5
}
